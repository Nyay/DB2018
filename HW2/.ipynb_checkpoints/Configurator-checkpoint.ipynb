{
 "cells": [
  {
   "cell_type": "code",
   "execution_count": 14,
   "metadata": {
    "collapsed": true
   },
   "outputs": [],
   "source": [
    "import pymysql\n",
    "\n",
    "server = \"sql2.freemysqlhosting.net\"\n",
    "user = \"sql2265975\"\n",
    "password = \"bA1%zF5%\"\n",
    "database = \"sql2265975\""
   ]
  },
  {
   "cell_type": "code",
   "execution_count": 15,
   "metadata": {},
   "outputs": [
    {
     "name": "stdout",
     "output_type": "stream",
     "text": [
      "Database version : ('5.5.54-0ubuntu0.12.04.1',)\n"
     ]
    }
   ],
   "source": [
    "db = pymysql.connect(server, user, password, database)\n",
    "\n",
    "cursor = db.cursor()\n",
    "\n",
    "cursor.execute(\"SELECT VERSION()\")\n",
    "\n",
    "print (\"Database version : {0}\".format(cursor.fetchone()))\n",
    "\n",
    "cursor.execute('show tables')\n",
    "\n",
    "for row in cursor.fetchall()[0]:\n",
    "    cursor.execute('DROP TABLE {}'.format(row))\n",
    "\n",
    "db.close()"
   ]
  },
  {
   "cell_type": "code",
   "execution_count": 16,
   "metadata": {
    "collapsed": true
   },
   "outputs": [],
   "source": [
    "CreateQuery = \"CREATE TABLE {} ({}, {}, {}, {}, {})\"\n",
    "\n",
    "Manufacturer = ['Manufacturer',\n",
    "                'id integer PRIMARY KEY AUTO_INCREMENT',\n",
    "                'Name nvarchar(100) NOT NULL',\n",
    "                'Mail nvarchar(50)',\n",
    "                'Address nvarchar(100) NOT NULL',\n",
    "                'Сountry nvarchar(100) NOT NULL']\n",
    "\n",
    "Product = ['Product',\n",
    "           'id integer PRIMARY KEY AUTO_INCREMENT',\n",
    "           'Denomination nvarchar(100) NOT NULL',\n",
    "           'Code nvarchar(10) NOT NULL',\n",
    "           'ManufacturerID integer NOT NULL',\n",
    "           'Price integer NOT NULL']\n",
    "\n",
    "Claim = ['Claim',\n",
    "         'id integer PRIMARY KEY AUTO_INCREMENT',\n",
    "         'Text nvarchar(200) NOT NULL',\n",
    "         'Code nvarchar(10) NOT NULL',\n",
    "         'Declarant nvarchar(100) NOT NULL',\n",
    "         'Status nvarchar(50) DEFAULT \"Принята\"']"
   ]
  },
  {
   "cell_type": "code",
   "execution_count": 17,
   "metadata": {
    "collapsed": true
   },
   "outputs": [],
   "source": [
    "def Creation(cursor, items):    \n",
    "    cursor.execute(CreateQuery.format(item[0],\n",
    "                                      item[1],\n",
    "                                      item[2],\n",
    "                                      item[3],\n",
    "                                      item[4],\n",
    "                                      item[5]))"
   ]
  },
  {
   "cell_type": "code",
   "execution_count": 18,
   "metadata": {
    "collapsed": true
   },
   "outputs": [],
   "source": [
    "db = pymysql.connect(server, user, password, database)\n",
    "\n",
    "cursor = db.cursor()\n",
    "\n",
    "for item in [Manufacturer, Product, Claim]:\n",
    "    try:\n",
    "        Creation(cursor, item)\n",
    "    except Exception:   # There is 'InternalError' so...\n",
    "        cursor.execute('DROP TABLE {}'.format(item[0]))\n",
    "        Creation(cursor, item)\n",
    "\n",
    "db.close()"
   ]
  },
  {
   "cell_type": "code",
   "execution_count": 19,
   "metadata": {},
   "outputs": [
    {
     "name": "stdout",
     "output_type": "stream",
     "text": [
      "Table Claim detected\n",
      "Table Manufacturer detected\n",
      "Table Product detected\n"
     ]
    }
   ],
   "source": [
    "db = pymysql.connect(server, user, password, database)\n",
    "\n",
    "cursor = db.cursor()\n",
    "\n",
    "cursor.execute('show tables')\n",
    "\n",
    "try:\n",
    "    for table in cursor.fetchall():\n",
    "        print('Table {} detected'.format(table[0]))\n",
    "except IndexError:\n",
    "    print('There is no table in DataBase')\n",
    "\n",
    "db.close()"
   ]
  }
 ],
 "metadata": {
  "kernelspec": {
   "display_name": "Python 3",
   "language": "python",
   "name": "python3"
  },
  "language_info": {
   "codemirror_mode": {
    "name": "ipython",
    "version": 3
   },
   "file_extension": ".py",
   "mimetype": "text/x-python",
   "name": "python",
   "nbconvert_exporter": "python",
   "pygments_lexer": "ipython3",
   "version": "3.5.2"
  }
 },
 "nbformat": 4,
 "nbformat_minor": 2
}
