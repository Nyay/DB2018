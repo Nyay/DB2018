{
 "cells": [
  {
   "cell_type": "code",
   "execution_count": 92,
   "metadata": {
    "collapsed": true
   },
   "outputs": [],
   "source": [
    "import pymysql as mysql\n",
    "\n",
    "server = \"sql7.freemysqlhosting.net\"\n",
    "user = \"sql7271447\"\n",
    "password = \"hi7DSvMiPz\"\n",
    "database = \"sql7271447\""
   ]
  },
  {
   "cell_type": "code",
   "execution_count": 93,
   "metadata": {},
   "outputs": [
    {
     "name": "stdout",
     "output_type": "stream",
     "text": [
      "Database version : ('5.5.58-0ubuntu0.14.04.1',)\n"
     ]
    }
   ],
   "source": [
    "db = mysql.connect(server, user, password, database)\n",
    "\n",
    "cursor = db.cursor()\n",
    "\n",
    "cursor.execute(\"SELECT VERSION()\")\n",
    "\n",
    "print (\"Database version : {0}\".format(cursor.fetchone()))\n",
    "\n",
    "db.close()"
   ]
  },
  {
   "cell_type": "code",
   "execution_count": 94,
   "metadata": {
    "collapsed": true
   },
   "outputs": [],
   "source": [
    "CreateQuery = \"CREATE TABLE {} ({}, {}, {}, {}, {})\"\n",
    "\n",
    "Users = ['Users',\n",
    "         'id integer PRIMARY KEY AUTO_INCREMENT',\n",
    "         'Username nvarchar(100) NOT NULL',\n",
    "         'Mail nvarchar(50)',\n",
    "         'Joined date',\n",
    "         'Gender nvarchar(50)',\n",
    "         'Location nvarchar(100)',\n",
    "         'Info nvarchar(500)']\n",
    "\n",
    "Films = ['Films',\n",
    "         'id integer PRIMARY KEY AUTO_INCREMENT',\n",
    "         'Title nvarchar(100) NOT NULL',\n",
    "         'Episodes integer NOT NULL',\n",
    "         'Type  nvarchar(50) NOT NULL',\n",
    "         'Status  nvarchar(50) NOT NULL',\n",
    "         'Studios nvarchar(100) NOT NULL',\n",
    "         'Genres nvarchar(50) NOT NULL',\n",
    "         'Duration integer NOT NULL',\n",
    "         'Rating nvarchar(50) NOT NULL',\n",
    "         'Synonyms nvarchar(1500)']\n",
    "\n",
    "TUConnection = ['TUConnection',\n",
    "                'id integer PRIMARY KEY AUTO_INCREMENT',\n",
    "                'User_id integer NOT NULL',\n",
    "                'Film_id integer NOT NULL',\n",
    "                'Episodes integer DEFAULT 0',\n",
    "                'Score integer',\n",
    "                'Status nvarchar(50) DEFAULT \"Watching\"']\n",
    "\n",
    "Reviews = ['Reviews',\n",
    "           'id integer PRIMARY KEY AUTO_INCREMENT',\n",
    "           'User_id integer NOT NULL',\n",
    "           'Film_id integer NOT NULL',\n",
    "           'Text nvarchar(1000) NOT NULL']\n",
    "\n",
    "\n"
   ]
  },
  {
   "cell_type": "code",
   "execution_count": 95,
   "metadata": {},
   "outputs": [],
   "source": [
    "def Creation(cursor, items): \n",
    "    \n",
    "    CreateQuery = 'CREATE TABLE {} (' + ('{}, ' * (len(items) - 1)).strip(', ') + ')'\n",
    "    \n",
    "    if len(items) == 8:\n",
    "        cursor.execute(CreateQuery.format(items[0],\n",
    "                                          items[1],\n",
    "                                          items[2],\n",
    "                                          items[3],\n",
    "                                          items[4],\n",
    "                                          items[5],\n",
    "                                          items[6],\n",
    "                                          items[7]))\n",
    "    elif len(items) == 5:\n",
    "        cursor.execute(CreateQuery.format(items[0],\n",
    "                                          items[1],\n",
    "                                          items[2],\n",
    "                                          items[3],\n",
    "                                          items[4]))\n",
    "    \n",
    "    elif len(items) == 7:\n",
    "        cursor.execute(CreateQuery.format(items[0],\n",
    "                                          items[1],\n",
    "                                          items[2],\n",
    "                                          items[3],\n",
    "                                          items[4],\n",
    "                                          items[5],\n",
    "                                          items[6]))\n",
    "    elif len(items) == 11:\n",
    "        cursor.execute(CreateQuery.format(items[0],\n",
    "                                          items[1],\n",
    "                                          items[2],\n",
    "                                          items[3],\n",
    "                                          items[4],\n",
    "                                          items[5],\n",
    "                                          items[6],\n",
    "                                          items[7],\n",
    "                                          items[8],\n",
    "                                          items[9],\n",
    "                                          items[10]))"
   ]
  },
  {
   "cell_type": "code",
   "execution_count": 96,
   "metadata": {},
   "outputs": [],
   "source": [
    "db = mysql.connect(server, user, password, database)\n",
    "\n",
    "cursor = db.cursor()\n",
    "\n",
    "for item in [Users, Films, Reviews, TUConnection]:\n",
    "    try:\n",
    "        Creation(cursor, item)\n",
    "    except Exception:   # There is 'InternalError' so...\n",
    "        cursor.execute('DROP TABLE {}'.format(item[0]))\n",
    "        Creation(cursor, item)\n",
    "\n",
    "db.close()"
   ]
  },
  {
   "cell_type": "code",
   "execution_count": 97,
   "metadata": {},
   "outputs": [
    {
     "name": "stdout",
     "output_type": "stream",
     "text": [
      "Table Films detected\n",
      "Table Reviews detected\n",
      "Table TUConnection detected\n",
      "Table Users detected\n"
     ]
    }
   ],
   "source": [
    "db = mysql.connect(server, user, password, database)\n",
    "\n",
    "cursor = db.cursor()\n",
    "\n",
    "cursor.execute('show tables')\n",
    "\n",
    "try:\n",
    "    for table in cursor.fetchall():\n",
    "        print('Table {} detected'.format(table[0]))\n",
    "except IndexError:\n",
    "    print('There is no table in DataBase')\n",
    "\n",
    "db.close()"
   ]
  },
  {
   "cell_type": "code",
   "execution_count": 100,
   "metadata": {},
   "outputs": [],
   "source": [
    "db = mysql.connect(server, user, password, database)\n",
    "\n",
    "cursor = db.cursor()\n",
    "\n",
    "cursor.execute('DELETE FROM TUConnection')\n",
    "db.commit()\n",
    "db.close()"
   ]
  },
  {
   "cell_type": "code",
   "execution_count": null,
   "metadata": {
    "collapsed": true
   },
   "outputs": [],
   "source": []
  }
 ],
 "metadata": {
  "kernelspec": {
   "display_name": "Python 3",
   "language": "python",
   "name": "python3"
  },
  "language_info": {
   "codemirror_mode": {
    "name": "ipython",
    "version": 3
   },
   "file_extension": ".py",
   "mimetype": "text/x-python",
   "name": "python",
   "nbconvert_exporter": "python",
   "pygments_lexer": "ipython3",
   "version": "3.5.2"
  }
 },
 "nbformat": 4,
 "nbformat_minor": 2
}
