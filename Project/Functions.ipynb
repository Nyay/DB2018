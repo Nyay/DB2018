{
 "cells": [
  {
   "cell_type": "code",
   "execution_count": 41,
   "metadata": {
    "collapsed": true
   },
   "outputs": [],
   "source": [
    "import pymysql as mysql\n",
    "\n",
    "server = \"sql7.freemysqlhosting.net\"\n",
    "user = \"sql7271447\"\n",
    "password = \"hi7DSvMiPz\"\n",
    "database = \"sql7271447\""
   ]
  },
  {
   "cell_type": "markdown",
   "metadata": {},
   "source": [
    "Для храниения информации о том, что смотрит каждый пользователь, создана отдельная таблица FUConnection. Где хранится id пользователя, id фильма, прогресс, статус и оценка.\n",
    "\n",
    "Изначально прогресс равен 0, а оценка не указана вообще.\n",
    "\n",
    "Давайте попробуем записать что-то в эту таблицу. Для этого возьмем 5 рандомных аниме и 1 рандомного пользователя."
   ]
  },
  {
   "cell_type": "code",
   "execution_count": 35,
   "metadata": {
    "collapsed": true
   },
   "outputs": [],
   "source": [
    "def look_something(table, thing):\n",
    "    db = mysql.connect(server, user, password, database)\n",
    "    with db.cursor() as cursor:\n",
    "        sql = \"SELECT {} FROM {}\"\n",
    "        cursor.execute(sql.format(thing, table))\n",
    "        items = cursor.fetchall()\n",
    "    db.commit()\n",
    "    db.close()\n",
    "    return items\n",
    "\n",
    "def look_something_one(table, thing):\n",
    "    db = mysql.connect(server, user, password, database)\n",
    "    with db.cursor() as cursor:\n",
    "        sql = \"SELECT {} FROM {}\"\n",
    "        cursor.execute(sql.format(thing, table))\n",
    "        items = cursor.fetchone()\n",
    "    db.commit()\n",
    "    db.close()\n",
    "    return items\n",
    "\n",
    "def add(table, columns, values):\n",
    "    db = mysql.connect(server,\n",
    "                       user,\n",
    "                       password,\n",
    "                       database)\n",
    "    with db.cursor() as cursor:\n",
    "        sql = \"INSERT INTO {}({}) VALUES ({})\"\n",
    "        cursor.execute(sql.format(table,\n",
    "                                  \", \".join(columns),\n",
    "                                  \"'\" + str(\"', '\".join(values)) + \"'\"))\n",
    "    db.commit()\n",
    "    db.close()\n",
    "\n",
    "def look_something_random(table, thing, num):\n",
    "    db = mysql.connect(server, user, password, database)\n",
    "    with db.cursor() as cursor:\n",
    "        sql = '''\n",
    "        SELECT {} FROM {}\n",
    "        ORDER BY RAND()\n",
    "        LIMIT {}'''\n",
    "        cursor.execute(sql.format(thing, table, num))\n",
    "        items = cursor.fetchall()\n",
    "    db.commit()\n",
    "    db.close()\n",
    "    return items\n"
   ]
  },
  {
   "cell_type": "code",
   "execution_count": 42,
   "metadata": {},
   "outputs": [
    {
     "name": "stdout",
     "output_type": "stream",
     "text": [
      "(1, 'karthiga', 'karthiga@pochta.ru', datetime.date(2013, 3, 3), 'Female', 'Chennai, India ', '')\n",
      "(1,)\n"
     ]
    }
   ],
   "source": [
    "mal_user = look_something_one('Users', '*')\n",
    "print(mal_user)\n",
    "mal_user = look_something_one('Users', 'id')\n",
    "print(mal_user)"
   ]
  },
  {
   "cell_type": "code",
   "execution_count": 43,
   "metadata": {},
   "outputs": [
    {
     "name": "stdout",
     "output_type": "stream",
     "text": [
      "(88,)\n",
      "(74,)\n",
      "(77,)\n",
      "(22,)\n",
      "(93,)\n",
      "(68,)\n",
      "(52,)\n",
      "(18,)\n",
      "(60,)\n",
      "(31,)\n"
     ]
    }
   ],
   "source": [
    "films = look_something_random('Films', 'id', 10)\n",
    "for r in films:\n",
    "    print(r)"
   ]
  },
  {
   "cell_type": "markdown",
   "metadata": {},
   "source": [
    "Давайте добавим эти десять фильмов в список просмотров выбранного пользователя"
   ]
  },
  {
   "cell_type": "code",
   "execution_count": 79,
   "metadata": {},
   "outputs": [],
   "source": [
    "for film in films:\n",
    "    add('TUConnection',\n",
    "        ['User_id', 'Film_id'],\n",
    "        [str(mal_user[0]), str(film[0])])"
   ]
  },
  {
   "cell_type": "markdown",
   "metadata": {},
   "source": [
    "Теперь посмотрим на результат "
   ]
  },
  {
   "cell_type": "code",
   "execution_count": 80,
   "metadata": {},
   "outputs": [
    {
     "data": {
      "text/plain": [
       "((24, 1, 22, 0, None, 'Watching'),\n",
       " (29, 1, 60, 0, None, 'Watching'),\n",
       " (28, 1, 18, 0, None, 'Watching'),\n",
       " (21, 1, 88, 0, None, 'Watching'),\n",
       " (30, 1, 31, 0, None, 'Watching'))"
      ]
     },
     "execution_count": 80,
     "metadata": {},
     "output_type": "execute_result"
    }
   ],
   "source": [
    "look_something_random('TUConnection', '*', 5)"
   ]
  },
  {
   "cell_type": "markdown",
   "metadata": {},
   "source": [
    "Мы видим, что у нас есть id пользователя, а также id тайтлов, которые он смотрит. Также у нас есть количество эпизодов, оценка, которая временно отсутствует, а также статус просмотра. Давайте обпределим статусы просмотра и напишем функцию, которая будет выводить на экран пользователя, название тайтла, который он смотрит, а также количество просмотренных эпизодов."
   ]
  },
  {
   "cell_type": "code",
   "execution_count": 71,
   "metadata": {
    "collapsed": true
   },
   "outputs": [],
   "source": [
    "def look_tuc(user_id):\n",
    "    db = mysql.connect(server, user, password, database)\n",
    "    with db.cursor() as cursor:\n",
    "        query = '''\n",
    "        SELECT O.Episodes, O.Score, O.Status , U.Username, F.Title \n",
    "      FROM TUConnection O \n",
    "      JOIN Users U ON O.User_id = U.id \n",
    "      JOIN Films F ON O.Film_id = F.id\n",
    "      WHERE O.User_id = {}'''\n",
    "        cursor.execute(query.format(user_id))\n",
    "        items = cursor.fetchall()\n",
    "    db.commit()\n",
    "    db.close()\n",
    "    return items"
   ]
  },
  {
   "cell_type": "markdown",
   "metadata": {},
   "source": [
    "Мы точно знаем, что у нас есть юзер с id 1, давайте попробуем посмотреть, что у нас получится..."
   ]
  },
  {
   "cell_type": "code",
   "execution_count": 81,
   "metadata": {},
   "outputs": [
    {
     "data": {
      "text/plain": [
       "((0, None, 'Watching', 'karthiga', 'Higurashi no Naku Koro ni'),\n",
       " (0, None, 'Watching', 'karthiga', 'Sore ga Seiyuu!'),\n",
       " (0, None, 'Watching', 'karthiga', 'Sidonia no Kishi'),\n",
       " (0, None, 'Watching', 'karthiga', 'Non Non Biyori Repeat'),\n",
       " (0, None, 'Watching', 'karthiga', 'Mobile Suit Gundam'),\n",
       " (0, None, 'Watching', 'karthiga', 'Fullmetal Alchemist: Brotherhood'),\n",
       " (0,\n",
       "  None,\n",
       "  'Watching',\n",
       "  'karthiga',\n",
       "  'Watashi ga Motenai no wa Dou Kangaetemo Omaera ga Warui!'),\n",
       " (0, None, 'Watching', 'karthiga', 'Fairy Tail'),\n",
       " (0, None, 'Watching', 'karthiga', 'Gantz'),\n",
       " (0, None, 'Watching', 'karthiga', 'D-Frag!'))"
      ]
     },
     "execution_count": 81,
     "metadata": {},
     "output_type": "execute_result"
    }
   ],
   "source": [
    "look_tuc(1)"
   ]
  },
  {
   "cell_type": "markdown",
   "metadata": {},
   "source": [
    "Теперь красиво это выведем на экран"
   ]
  },
  {
   "cell_type": "code",
   "execution_count": 73,
   "metadata": {
    "collapsed": true
   },
   "outputs": [],
   "source": [
    "def show_film_list(user_id):\n",
    "    for item in look_tuc(user_id):\n",
    "        print('''\n",
    "        User:\\t{}\n",
    "        Title:\\t{}\n",
    "        Status:\\t{}\n",
    "        Score:\\t{}\n",
    "        Watched {} epesodes'''.format(item[3], item[4], item[2], item[1], item[0]))"
   ]
  },
  {
   "cell_type": "code",
   "execution_count": 82,
   "metadata": {},
   "outputs": [
    {
     "name": "stdout",
     "output_type": "stream",
     "text": [
      "\n",
      "        User:\tkarthiga\n",
      "        Title:\tHigurashi no Naku Koro ni\n",
      "        Status:\tWatching\n",
      "        Score:\tNone\n",
      "        Watched 0 epesodes\n",
      "\n",
      "        User:\tkarthiga\n",
      "        Title:\tSore ga Seiyuu!\n",
      "        Status:\tWatching\n",
      "        Score:\tNone\n",
      "        Watched 0 epesodes\n",
      "\n",
      "        User:\tkarthiga\n",
      "        Title:\tSidonia no Kishi\n",
      "        Status:\tWatching\n",
      "        Score:\tNone\n",
      "        Watched 0 epesodes\n",
      "\n",
      "        User:\tkarthiga\n",
      "        Title:\tNon Non Biyori Repeat\n",
      "        Status:\tWatching\n",
      "        Score:\tNone\n",
      "        Watched 0 epesodes\n",
      "\n",
      "        User:\tkarthiga\n",
      "        Title:\tMobile Suit Gundam\n",
      "        Status:\tWatching\n",
      "        Score:\tNone\n",
      "        Watched 0 epesodes\n",
      "\n",
      "        User:\tkarthiga\n",
      "        Title:\tFullmetal Alchemist: Brotherhood\n",
      "        Status:\tWatching\n",
      "        Score:\tNone\n",
      "        Watched 0 epesodes\n",
      "\n",
      "        User:\tkarthiga\n",
      "        Title:\tWatashi ga Motenai no wa Dou Kangaetemo Omaera ga Warui!\n",
      "        Status:\tWatching\n",
      "        Score:\tNone\n",
      "        Watched 0 epesodes\n",
      "\n",
      "        User:\tkarthiga\n",
      "        Title:\tFairy Tail\n",
      "        Status:\tWatching\n",
      "        Score:\tNone\n",
      "        Watched 0 epesodes\n",
      "\n",
      "        User:\tkarthiga\n",
      "        Title:\tGantz\n",
      "        Status:\tWatching\n",
      "        Score:\tNone\n",
      "        Watched 0 epesodes\n",
      "\n",
      "        User:\tkarthiga\n",
      "        Title:\tD-Frag!\n",
      "        Status:\tWatching\n",
      "        Score:\tNone\n",
      "        Watched 0 epesodes\n"
     ]
    }
   ],
   "source": [
    "show_film_list(1)"
   ]
  },
  {
   "cell_type": "markdown",
   "metadata": {},
   "source": [
    "Теперь давайте создадим список возможных статусов тайтлов и напишим функции, которые будут менять количество просмотренных эпизодов, статус и оцеку"
   ]
  },
  {
   "cell_type": "code",
   "execution_count": 58,
   "metadata": {
    "collapsed": true
   },
   "outputs": [],
   "source": [
    "conf_status = ['Watching', 'Completed', 'On-Hold', 'Dropped', 'Plan to Watch']\n",
    "\n",
    "def get_max_ep(title_id):\n",
    "    db = mysql.connect(server, user, password, database)\n",
    "    with db.cursor() as cursor:\n",
    "        sql = \"SELECT Episodes FROM Films WHERE id = {}\"\n",
    "        cursor.execute(sql.format(title_id))\n",
    "        items = cursor.fetchone()\n",
    "    db.commit()\n",
    "    db.close()\n",
    "    return items"
   ]
  },
  {
   "cell_type": "code",
   "execution_count": 66,
   "metadata": {},
   "outputs": [],
   "source": [
    "def change_data(user_id, film_id, episodes=None, status=None, score=None):\n",
    "    max_ep = get_max_ep(film_id)[0]\n",
    "    db = mysql.connect(server, user, password, database)\n",
    "    to_change = []\n",
    "    if episodes and type(episodes) == int and episodes in range(0, max_ep):\n",
    "        to_change.append('Episodes = {}'.format(str(episodes)))\n",
    "    if status and status in conf_status:\n",
    "        to_change.append('Status = \"{}\"'.format(str(status)))\n",
    "    if score and score in range(0, 10):\n",
    "        to_change.append('Score = {}'.format(str(score)))\n",
    "    if to_change:\n",
    "        with db.cursor() as cursor:\n",
    "            query = '''\n",
    "            UPDATE TUConnection\n",
    "            SET {}\n",
    "            WHERE User_id = {}\n",
    "            AND Film_id = {}'''\n",
    "            cursor.execute(query.format(', '.join(to_change), user_id, film_id))\n",
    "    db.commit()\n",
    "    db.close()"
   ]
  },
  {
   "cell_type": "code",
   "execution_count": 67,
   "metadata": {},
   "outputs": [],
   "source": [
    "change_data(1, 52, episodes=10, score=4)"
   ]
  },
  {
   "cell_type": "markdown",
   "metadata": {},
   "source": [
    "Не сломалось и хорошо. Давайте попробуем поменять информацию для всех тайтлов для этого человека, а потом выведем данные еще раз."
   ]
  },
  {
   "cell_type": "code",
   "execution_count": 83,
   "metadata": {
    "collapsed": true
   },
   "outputs": [],
   "source": [
    "import random"
   ]
  },
  {
   "cell_type": "code",
   "execution_count": 86,
   "metadata": {},
   "outputs": [],
   "source": [
    "for film in films:\n",
    "    change_data(1,\n",
    "                film[0],\n",
    "                episodes=random.choice(range(0, 12)),\n",
    "                score=random.choice(range(0, 10)),\n",
    "                status=random.choice(conf_status))"
   ]
  },
  {
   "cell_type": "code",
   "execution_count": 87,
   "metadata": {},
   "outputs": [
    {
     "name": "stdout",
     "output_type": "stream",
     "text": [
      "\n",
      "        User:\tkarthiga\n",
      "        Title:\tHigurashi no Naku Koro ni\n",
      "        Status:\tPlan to Watch\n",
      "        Score:\t1\n",
      "        Watched 9 epesodes\n",
      "\n",
      "        User:\tkarthiga\n",
      "        Title:\tSore ga Seiyuu!\n",
      "        Status:\tPlan to Watch\n",
      "        Score:\t3\n",
      "        Watched 7 epesodes\n",
      "\n",
      "        User:\tkarthiga\n",
      "        Title:\tSidonia no Kishi\n",
      "        Status:\tPlan to Watch\n",
      "        Score:\t7\n",
      "        Watched 8 epesodes\n",
      "\n",
      "        User:\tkarthiga\n",
      "        Title:\tNon Non Biyori Repeat\n",
      "        Status:\tCompleted\n",
      "        Score:\t5\n",
      "        Watched 5 epesodes\n",
      "\n",
      "        User:\tkarthiga\n",
      "        Title:\tMobile Suit Gundam\n",
      "        Status:\tCompleted\n",
      "        Score:\tNone\n",
      "        Watched 6 epesodes\n",
      "\n",
      "        User:\tkarthiga\n",
      "        Title:\tFullmetal Alchemist: Brotherhood\n",
      "        Status:\tPlan to Watch\n",
      "        Score:\tNone\n",
      "        Watched 11 epesodes\n",
      "\n",
      "        User:\tkarthiga\n",
      "        Title:\tWatashi ga Motenai no wa Dou Kangaetemo Omaera ga Warui!\n",
      "        Status:\tPlan to Watch\n",
      "        Score:\t9\n",
      "        Watched 9 epesodes\n",
      "\n",
      "        User:\tkarthiga\n",
      "        Title:\tFairy Tail\n",
      "        Status:\tPlan to Watch\n",
      "        Score:\t4\n",
      "        Watched 5 epesodes\n",
      "\n",
      "        User:\tkarthiga\n",
      "        Title:\tGantz\n",
      "        Status:\tOn-Hold\n",
      "        Score:\t9\n",
      "        Watched 5 epesodes\n",
      "\n",
      "        User:\tkarthiga\n",
      "        Title:\tD-Frag!\n",
      "        Status:\tCompleted\n",
      "        Score:\t6\n",
      "        Watched 7 epesodes\n"
     ]
    }
   ],
   "source": [
    "show_film_list(1)"
   ]
  },
  {
   "cell_type": "markdown",
   "metadata": {},
   "source": [
    "Возможно и не очень логично, но все работает. Теперь мы можем менять, добавлять и смотреть. Предположим пользователь решил удалить какой-то тайтл из своего списка. Надо сделать."
   ]
  },
  {
   "cell_type": "code",
   "execution_count": 88,
   "metadata": {
    "collapsed": true
   },
   "outputs": [],
   "source": [
    "def delete_films(user_id, film_id):\n",
    "    db = mysql.connect(server, user, password, database)\n",
    "    with db.cursor() as cursor:\n",
    "        sql = \"DELETE FROM TUConnection WHERE User_id = {} AND Film_id = {}\"\n",
    "        cursor.execute(sql.format(user_id, film_id))\n",
    "    db.commit()\n",
    "    db.close()"
   ]
  },
  {
   "cell_type": "code",
   "execution_count": 89,
   "metadata": {
    "collapsed": true
   },
   "outputs": [],
   "source": [
    "delete_films(1, 22)"
   ]
  },
  {
   "cell_type": "code",
   "execution_count": 90,
   "metadata": {},
   "outputs": [
    {
     "name": "stdout",
     "output_type": "stream",
     "text": [
      "\n",
      "        User:\tkarthiga\n",
      "        Title:\tHigurashi no Naku Koro ni\n",
      "        Status:\tPlan to Watch\n",
      "        Score:\t1\n",
      "        Watched 9 epesodes\n",
      "\n",
      "        User:\tkarthiga\n",
      "        Title:\tSore ga Seiyuu!\n",
      "        Status:\tPlan to Watch\n",
      "        Score:\t3\n",
      "        Watched 7 epesodes\n",
      "\n",
      "        User:\tkarthiga\n",
      "        Title:\tSidonia no Kishi\n",
      "        Status:\tPlan to Watch\n",
      "        Score:\t7\n",
      "        Watched 8 epesodes\n",
      "\n",
      "        User:\tkarthiga\n",
      "        Title:\tMobile Suit Gundam\n",
      "        Status:\tCompleted\n",
      "        Score:\tNone\n",
      "        Watched 6 epesodes\n",
      "\n",
      "        User:\tkarthiga\n",
      "        Title:\tFullmetal Alchemist: Brotherhood\n",
      "        Status:\tPlan to Watch\n",
      "        Score:\tNone\n",
      "        Watched 11 epesodes\n",
      "\n",
      "        User:\tkarthiga\n",
      "        Title:\tWatashi ga Motenai no wa Dou Kangaetemo Omaera ga Warui!\n",
      "        Status:\tPlan to Watch\n",
      "        Score:\t9\n",
      "        Watched 9 epesodes\n",
      "\n",
      "        User:\tkarthiga\n",
      "        Title:\tFairy Tail\n",
      "        Status:\tPlan to Watch\n",
      "        Score:\t4\n",
      "        Watched 5 epesodes\n",
      "\n",
      "        User:\tkarthiga\n",
      "        Title:\tGantz\n",
      "        Status:\tOn-Hold\n",
      "        Score:\t9\n",
      "        Watched 5 epesodes\n",
      "\n",
      "        User:\tkarthiga\n",
      "        Title:\tD-Frag!\n",
      "        Status:\tCompleted\n",
      "        Score:\t6\n",
      "        Watched 7 epesodes\n"
     ]
    }
   ],
   "source": [
    "show_film_list(1)"
   ]
  },
  {
   "cell_type": "markdown",
   "metadata": {},
   "source": [
    "Non Non Biyori Repeat больше нет... Добавление ревью можно осуществлять при помощи функции **add**, поэтому тут не очень интересно. Давайте добавим функцию, которая будет выводить среднюю оценку по всем аниме в списке. Для этого добавим для уже существующего списка фильмов, оценки двух любых пользователей."
   ]
  },
  {
   "cell_type": "code",
   "execution_count": 91,
   "metadata": {
    "collapsed": true
   },
   "outputs": [],
   "source": [
    "for film in films:\n",
    "    add('TUConnection',\n",
    "        ['User_id', 'Film_id'],\n",
    "        [str(2), str(film[0])])"
   ]
  },
  {
   "cell_type": "code",
   "execution_count": 92,
   "metadata": {
    "collapsed": true
   },
   "outputs": [],
   "source": [
    "for film in films:\n",
    "    change_data(2,\n",
    "                film[0],\n",
    "                episodes=random.choice(range(0, 12)),\n",
    "                score=random.choice(range(0, 10)),\n",
    "                status=random.choice(conf_status))"
   ]
  },
  {
   "cell_type": "code",
   "execution_count": 93,
   "metadata": {
    "collapsed": true
   },
   "outputs": [],
   "source": [
    "for film in films:\n",
    "    add('TUConnection',\n",
    "        ['User_id', 'Film_id'],\n",
    "        [str(3), str(film[0])])"
   ]
  },
  {
   "cell_type": "code",
   "execution_count": 94,
   "metadata": {
    "collapsed": true
   },
   "outputs": [],
   "source": [
    "for film in films:\n",
    "    change_data(3,\n",
    "                film[0],\n",
    "                episodes=random.choice(range(0, 12)),\n",
    "                score=random.choice(range(0, 10)),\n",
    "                status=random.choice(conf_status))"
   ]
  },
  {
   "cell_type": "code",
   "execution_count": 95,
   "metadata": {
    "collapsed": true
   },
   "outputs": [],
   "source": [
    "def show_mean_score(film_id):\n",
    "    db = mysql.connect(server, user, password, database)\n",
    "    with db.cursor() as cursor:\n",
    "        query = '''\n",
    "        SELECT AVG(O.Score), F.Title \n",
    "      FROM TUConnection O \n",
    "      JOIN Films F ON O.Film_id = F.id\n",
    "      WHERE O.Film_id = {}'''\n",
    "        cursor.execute(query.format(film_id))\n",
    "        items = cursor.fetchall()\n",
    "    db.commit()\n",
    "    db.close()\n",
    "    return items"
   ]
  },
  {
   "cell_type": "code",
   "execution_count": 99,
   "metadata": {},
   "outputs": [
    {
     "data": {
      "text/plain": [
       "((Decimal('3.3333'), 'D-Frag!'),)"
      ]
     },
     "execution_count": 99,
     "metadata": {},
     "output_type": "execute_result"
    }
   ],
   "source": [
    "show_mean_score(31)"
   ]
  },
  {
   "cell_type": "code",
   "execution_count": 100,
   "metadata": {},
   "outputs": [
    {
     "name": "stdout",
     "output_type": "stream",
     "text": [
      "\n",
      "        Title:\tHigurashi no Naku Koro ni\n",
      "        Score:\t5.3333\n",
      "\n",
      "        Title:\tSore ga Seiyuu!\n",
      "        Score:\t3.6667\n",
      "\n",
      "        Title:\tSidonia no Kishi\n",
      "        Score:\t4.6667\n",
      "\n",
      "        Title:\tNon Non Biyori Repeat\n",
      "        Score:\t4.0\n",
      "\n",
      "        Title:\tMobile Suit Gundam\n",
      "        Score:\t4.5\n",
      "\n",
      "        Title:\tFullmetal Alchemist: Brotherhood\n",
      "        Score:\t9.0\n",
      "\n",
      "        Title:\tWatashi ga Motenai no wa Dou Kangaetemo Omaera ga Warui!\n",
      "        Score:\t6.3333\n",
      "\n",
      "        Title:\tFairy Tail\n",
      "        Score:\t5.0\n",
      "\n",
      "        Title:\tGantz\n",
      "        Score:\t6.6667\n",
      "\n",
      "        Title:\tD-Frag!\n",
      "        Score:\t3.3333\n"
     ]
    }
   ],
   "source": [
    "for film_id in films:\n",
    "    for score, name in show_mean_score(film_id[0]):\n",
    "        print('''\n",
    "        Title:\\t{}\n",
    "        Score:\\t{}'''.format(name, float(score)))"
   ]
  },
  {
   "cell_type": "markdown",
   "metadata": {},
   "source": [
    "Ура, мы можем выводеть средние оценки пользователей для тайтлов, теперь можно показывать эти оценки и пользователи могут на них ориентироваться. \n",
    "\n",
    "Еще, будет неплохо, если при показе ревью, если пользователь оценил тайтл, то пускай при показе ревью, показывалась и оценка.\n",
    "\n",
    "Добавим 2 ревью, один от пользователя, который оценил тайтл, и от второго, который не оценивал \n"
   ]
  },
  {
   "cell_type": "code",
   "execution_count": 104,
   "metadata": {},
   "outputs": [],
   "source": [
    "text1 = \"\"\"\n",
    "It is true that school-life is one of the most common genres in Japanese animation.\n",
    "From specialty school (magic, cooking etc) to school-life with mysteries or supernatural.\n",
    "In short, it is a genre that has been widely exploited in all respects.\n",
    "As for Tsuki ga Kirei, it does not pretend to revolutionize the genre and does not propose an original plot at first.\"\"\"\n",
    "\n",
    "text2 = \"\"\"When attempting to define romance, a few notions come to mind: a feeling of excitement, a remoteness from the mundaneness of everyday life, or perhaps a quality of mystery.\n",
    "These are the qualities that litter the romance genre today.\n",
    "However, one cannot discount the impact that simpler techniques create\"\"\"\n",
    "\n",
    "add('Reviews', ['User_id', 'Film_id', 'Text'], [str(2), str(60), text1])\n",
    "add('Reviews', ['User_id', 'Film_id', 'Text'], [str(6), str(60), text2])"
   ]
  },
  {
   "cell_type": "code",
   "execution_count": 121,
   "metadata": {},
   "outputs": [
    {
     "data": {
      "text/plain": [
       "((1,\n",
       "  1,\n",
       "  60,\n",
       "  '\\nIt is true that school-life is one of the most common genres in Japanese animation.\\nFrom specialty school (magic, cooking etc) to school-life with mysteries or supernatural.\\nIn short, it is a genre that has been widely exploited in all respects.\\nAs for Tsuki ga Kirei, it does not pretend to revolutionize the genre and does not propose an original plot at first.'),\n",
       " (2,\n",
       "  1,\n",
       "  60,\n",
       "  'When attempting to define romance, a few notions come to mind: a feeling of excitement, a remoteness from the mundaneness of everyday life, or perhaps a quality of mystery.\\nThese are the qualities that litter the romance genre today.\\nHowever, one cannot discount the impact that simpler techniques create'),\n",
       " (3,\n",
       "  2,\n",
       "  60,\n",
       "  '\\nIt is true that school-life is one of the most common genres in Japanese animation.\\nFrom specialty school (magic, cooking etc) to school-life with mysteries or supernatural.\\nIn short, it is a genre that has been widely exploited in all respects.\\nAs for Tsuki ga Kirei, it does not pretend to revolutionize the genre and does not propose an original plot at first.'),\n",
       " (4,\n",
       "  6,\n",
       "  60,\n",
       "  'When attempting to define romance, a few notions come to mind: a feeling of excitement, a remoteness from the mundaneness of everyday life, or perhaps a quality of mystery.\\nThese are the qualities that litter the romance genre today.\\nHowever, one cannot discount the impact that simpler techniques create'))"
      ]
     },
     "execution_count": 121,
     "metadata": {},
     "output_type": "execute_result"
    }
   ],
   "source": [
    "look_something('Reviews', '*')"
   ]
  },
  {
   "cell_type": "code",
   "execution_count": 106,
   "metadata": {
    "collapsed": true
   },
   "outputs": [],
   "source": [
    "add('TUConnection',\n",
    "        ['User_id', 'Film_id'],\n",
    "        [str(6), str(60)])"
   ]
  },
  {
   "cell_type": "code",
   "execution_count": 208,
   "metadata": {},
   "outputs": [],
   "source": [
    "def score_plus_review(film_id):\n",
    "    db = mysql.connect(server, user, password, database)\n",
    "    with db.cursor() as cursor:\n",
    "        query = '''\n",
    "        SELECT TUC.Score, R.Text, F.Title, U.Username\n",
    "      FROM Reviews R\n",
    "      JOIN TUConnection TUC ON R.Film_id = TUC.Film_id \n",
    "      JOIN Films F ON R.Film_id = F.id \n",
    "      JOIN Users U ON R.User_id = U.id\n",
    "      WHERE R.Film_id = {}\n",
    "      AND TUC.User_id = R.User_id'''\n",
    "        cursor.execute(query.format(str(film_id)))\n",
    "        items = cursor.fetchall()\n",
    "        \n",
    "    db.commit()\n",
    "    db.close()\n",
    "    return items\n",
    "\n",
    "def show_reviews(title_id):\n",
    "    for item in score_plus_review(title_id):\n",
    "        if item[0] != None:\n",
    "            print('''\n",
    "Title:\\t{}\n",
    "User:\\t{}\n",
    "Score:\\t{}\n",
    "Text:\\t{}'''.format(item[2], item[3], str(item[0]), item[1]))\n",
    "        else:\n",
    "            print('''\n",
    "Title:\\t{}\n",
    "User:\\t{}\n",
    "Text:\\t{}'''.format(item[2], item[3], item[1]))"
   ]
  },
  {
   "cell_type": "code",
   "execution_count": 209,
   "metadata": {},
   "outputs": [
    {
     "name": "stdout",
     "output_type": "stream",
     "text": [
      "\n",
      "Title:\tGantz\n",
      "User:\tkarthiga\n",
      "Score:\t9\n",
      "Text:\t\n",
      "It is true that school-life is one of the most common genres in Japanese animation.\n",
      "From specialty school (magic, cooking etc) to school-life with mysteries or supernatural.\n",
      "In short, it is a genre that has been widely exploited in all respects.\n",
      "As for Tsuki ga Kirei, it does not pretend to revolutionize the genre and does not propose an original plot at first.\n",
      "\n",
      "Title:\tGantz\n",
      "User:\tkarthiga\n",
      "Score:\t9\n",
      "Text:\tWhen attempting to define romance, a few notions come to mind: a feeling of excitement, a remoteness from the mundaneness of everyday life, or perhaps a quality of mystery.\n",
      "These are the qualities that litter the romance genre today.\n",
      "However, one cannot discount the impact that simpler techniques create\n",
      "\n",
      "Title:\tGantz\n",
      "User:\tRedvelvetDaisuki\n",
      "Score:\t2\n",
      "Text:\t\n",
      "It is true that school-life is one of the most common genres in Japanese animation.\n",
      "From specialty school (magic, cooking etc) to school-life with mysteries or supernatural.\n",
      "In short, it is a genre that has been widely exploited in all respects.\n",
      "As for Tsuki ga Kirei, it does not pretend to revolutionize the genre and does not propose an original plot at first.\n",
      "\n",
      "Title:\tGantz\n",
      "User:\tterune_uzumaki\n",
      "Text:\tWhen attempting to define romance, a few notions come to mind: a feeling of excitement, a remoteness from the mundaneness of everyday life, or perhaps a quality of mystery.\n",
      "These are the qualities that litter the romance genre today.\n",
      "However, one cannot discount the impact that simpler techniques create\n"
     ]
    }
   ],
   "source": [
    "show_reviews(60)"
   ]
  },
  {
   "cell_type": "code",
   "execution_count": null,
   "metadata": {
    "collapsed": true
   },
   "outputs": [],
   "source": []
  }
 ],
 "metadata": {
  "kernelspec": {
   "display_name": "Python 3",
   "language": "python",
   "name": "python3"
  },
  "language_info": {
   "codemirror_mode": {
    "name": "ipython",
    "version": 3
   },
   "file_extension": ".py",
   "mimetype": "text/x-python",
   "name": "python",
   "nbconvert_exporter": "python",
   "pygments_lexer": "ipython3",
   "version": "3.5.2"
  }
 },
 "nbformat": 4,
 "nbformat_minor": 2
}
